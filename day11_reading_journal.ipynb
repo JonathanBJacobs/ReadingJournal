{
 "cells": [
  {
   "cell_type": "markdown",
   "metadata": {},
   "source": [
    "# Day 11 Reading Journal\n",
    "\n",
    "This journal includes several required exercises, but it is meant to encourage active reading more generally.  You should use the journal to take detailed notes, catalog questions, and explore the content from Think Python deeply.\n",
    "\n",
    "Reading: Review Think Python Chapters 15-17\n",
    "\n",
    "**Due: Monday, February 29 at 12 noon**\n",
    "\n"
   ]
  },
  {
   "cell_type": "markdown",
   "metadata": {},
   "source": [
    "## [Chapter 15](http://www.greenteapress.com/thinkpython/html/thinkpython016.html), [Chapter 16](http://www.greenteapress.com/thinkpython/html/thinkpython017.html), [Chapter 17](http://www.greenteapress.com/thinkpython/html/thinkpython018.html)\n",
    "\n",
    "\n",
    "By the end of chapter 17, we have all the tools we need to create our own user-defined types known as classes. In this reading journal, we're asking you to review and solidify your understanding of this material so we can build on it for the rest of the course. \n",
    "\n",
    "If you didn't get a chance to fully complete the Day 10 reading journal, you may want to do so now."
   ]
  },
  {
   "cell_type": "markdown",
   "metadata": {
    "problem": "Terminology"
   },
   "source": [
    "### Terminology\n",
    "\n",
    "You should be familiar with the following list of terms and concepts. If any of them are unclear to you, re-read, ask, write a definition in your own words, and try an example if appropriate.\n",
    "\n",
    " - class\n",
    " - object\n",
    " - instance\n",
    " - attribute\n",
    " - method\n",
    " - shallow vs deep copying\n",
    " - pure functions vs modifiers\n",
    " - initializing object instances\n",
    " "
   ]
  },
  {
   "cell_type": "markdown",
   "metadata": {
    "is_question": true,
    "problem": "Exercise 1"
   },
   "source": [
    "### Exercise\n",
    "\n",
    "We're going to take the first steps toward writing a calendar application. To keep things simple, we'll restrict ourselves to a single day for now. Write an `Event` class with the following attributes:\n",
    "\n",
    " - `name`  : Title for the `Event`\n",
    " - `start` : `Time` object representing the start time for the `Event`\n",
    " - `end`   : `Time` object representing the end time for the `Event`\n",
    "\n",
    "You can also augment your `Event` class with additional attributes, such as location and attendees.\n",
    "\n",
    "Write `__init__` and `__str__` methods for your `Event` class."
   ]
  },
  {
   "cell_type": "code",
   "execution_count": 4,
   "metadata": {
    "collapsed": false,
    "solution": "Exercise 1"
   },
   "outputs": [
    {
     "name": "stdout",
     "output_type": "stream",
     "text": [
      "fair starting at 01:02:03 and ending at 03:04:05\n"
     ]
    }
   ],
   "source": [
    "class Time(object):\n",
    "    \"\"\"represents time\n",
    "    attributes: hour, minute, second\n",
    "    \"\"\"\n",
    "    def __init__(self, hour = 0, minute = 0, second = 0):\n",
    "        self.hour = hour\n",
    "        self.minute = minute\n",
    "        self.second = second\n",
    "    \n",
    "    def __str__(self):\n",
    "        return \"{:02}:{:02}:{:02}\".format(self.hour,self.minute,self.second)\n",
    "\n",
    "class Event(object):\n",
    "    \"\"\"Event class, which is part of a calendar\n",
    "    attributes: name: Title for the Event\n",
    "                start: Time object representing the start time\n",
    "                end: Time object representing the end time for the event\n",
    "    \"\"\"\n",
    "\n",
    "    def __init__(self, name = '', start = Time(), end = Time()):\n",
    "        self.name = name\n",
    "        self.start = start\n",
    "        self.end = end\n",
    "    \n",
    "    def __str__(self):\n",
    "        return '{} starting at {} and ending at {}'.format(self.name,self.start,self.end)\n",
    "        \n",
    "time1 = Time(1,2,3)\n",
    "time2 = Time(3,4,5)\n",
    "fair = Event('fair',time1,time2)\n",
    "print fair"
   ]
  },
  {
   "cell_type": "markdown",
   "metadata": {
    "is_question": true,
    "problem": "Exercise 2"
   },
   "source": [
    "### Exercise\n",
    "\n",
    "Write a `duration` method that returns the duration of the `Event` in minutes."
   ]
  },
  {
   "cell_type": "code",
   "execution_count": 18,
   "metadata": {
    "collapsed": false,
    "solution": "Exercise 2"
   },
   "outputs": [
    {
     "name": "stdout",
     "output_type": "stream",
     "text": [
      "The duration of fair is 124.0 minutes\n"
     ]
    }
   ],
   "source": [
    "class Time(object):\n",
    "    \"\"\"represents time\n",
    "    attributes: hour, minute, second\n",
    "    \"\"\"\n",
    "    def __init__(self, hour = 0, minute = 0, second = 0):\n",
    "        self.hour = hour\n",
    "        self.minute = minute\n",
    "        self.second = second\n",
    "    \n",
    "    def __str__(self):\n",
    "        return \"{:02}:{:02}:{:02}\".format(self.hour,self.minute,self.second)\n",
    "\n",
    "class Event(object):\n",
    "    \"\"\"Event class, which is part of a calendar\n",
    "    attributes: name: Title for the Event\n",
    "                start: Time object representing the start time\n",
    "                end: Time object representing the end time for the event\n",
    "    \"\"\"\n",
    "\n",
    "    def __init__(self, name = '', start = Time(), end = Time()):\n",
    "        self.name = name\n",
    "        self.start = start\n",
    "        self.end = end\n",
    "    \n",
    "    def __str__(self):\n",
    "        return '{} starting at {} and ending at {}'.format(self.name,self.start,self.end)\n",
    "    \n",
    "    def duration(self):\n",
    "        deltaHour = self.end.hour - self.start.hour\n",
    "        deltaMinute = self.end.minute - self.start.minute\n",
    "        deltaSecond = self.end.second - self.start.second\n",
    "        return \"The duration of {} is {} minutes\".format(self.name, str(60.0*deltaHour + 1.0*deltaMinute + deltaSecond/60.0))\n",
    "    \n",
    "    def startInfo(self):\n",
    "        return (self.start.hour, self.start.minute, self.start.second)\n",
    "    \n",
    "time1 = Time(1,0,0)\n",
    "time2 = Time(3,4)\n",
    "fair = Event('fair',time1,time2)\n",
    "print fair.duration()\n",
    "time"
   ]
  },
  {
   "cell_type": "markdown",
   "metadata": {
    "is_question": true,
    "problem": "Exercise 3"
   },
   "source": [
    "### Exercise\n",
    "\n",
    "Write an `Agenda` class that contains several `Event`s for the day.\n",
    "\n",
    "**Quick check: ** How should you store `Event`s within your `Agenda` class?\n",
    "\n",
    "Your `Agenda` class should include a `print_agenda` method that prints out your schedule for the day, in order.\n",
    "\n",
    "**Optional:** Include a `is_feasible` method that returns `True` if your schedule has no time conflicts. You may want to write additional helper methods for the `Event` class to make this easier."
   ]
  },
  {
   "cell_type": "code",
   "execution_count": 27,
   "metadata": {
    "collapsed": false,
    "solution": "Exercise 3"
   },
   "outputs": [
    {
     "name": "stdout",
     "output_type": "stream",
     "text": [
      "your agenda for the day:\n",
      "fair1 starting at 01:00:00 and ending at 03:04:00\n",
      "fair2 starting at 02:00:00 and ending at 05:04:00\n",
      "fair3 starting at 03:00:00 and ending at 07:04:00\n"
     ]
    }
   ],
   "source": [
    "class Agenda(object):\n",
    "    \"\"\"Agenda class which contains several Events for the day. Includes a print_agenda method which prints out\n",
    "    your schedule for the day and an is_feasible method that returns True if your schedule has no time conflicts\"\"\"\n",
    "    \n",
    "    def __init__(self, day = 'Monday', scheduledEvents = []):\n",
    "        self.day = day\n",
    "        self.scheduledEvents = scheduledEvents\n",
    "    \n",
    "    def addEvent(self, thing):\n",
    "        self.scheduledEvents.append(thing)\n",
    "    \n",
    "    def print_agenda(self):\n",
    "        startEvent = {}\n",
    "        for event in self.scheduledEvents:\n",
    "            startEvent[event.startInfo()] = event\n",
    "        orderedEvents = startEvent.items()\n",
    "        orderedEvents.sort()\n",
    "        print 'your agenda for the day:'\n",
    "        for time in orderedEvents:\n",
    "            print startEvent[time[0]]\n",
    "            \n",
    "\n",
    "time1 = Time(1,0,0)\n",
    "time2 = Time(3,4)\n",
    "fair = Event('fair1',time1,time2)\n",
    "\n",
    "time3 = Time(2,0,0)\n",
    "time4 = Time(5,4)\n",
    "fair2 = Event('fair2',time3,time4)\n",
    "\n",
    "time5 = Time(3,0,0)\n",
    "time6 = Time(7,4)\n",
    "fair3 = Event('fair3',time5,time6)\n",
    "\n",
    "monday = Agenda('Monday', [fair,fair2,fair3])\n",
    "monday.print_agenda()\n",
    "        \n",
    "        "
   ]
  },
  {
   "cell_type": "markdown",
   "metadata": {
    "is_question": true,
    "problem": "Exercise 4"
   },
   "source": [
    "### Going Beyond (optional)\n",
    "\n",
    "Some ideas for taking your application further:\n",
    " - Add people and/or places to the mix to create a scheduling assistant\n",
    " - Extend support for day-of-week or full date. A word of warning: dealing with dates and times in real applications is difficult due to the huge number of special cases (Perfect example: this reading journal is due on Leap Day). Consider using something like the Python [datetime](https://docs.python.org/2/library/datetime.html) module.\n",
    " - Use pickle or some other persistence strategy to save and load your `Agenda`."
   ]
  },
  {
   "cell_type": "code",
   "execution_count": null,
   "metadata": {
    "collapsed": true,
    "solution": "Exercise 4"
   },
   "outputs": [],
   "source": []
  },
  {
   "cell_type": "markdown",
   "metadata": {
    "is_poll": true,
    "is_question": true,
    "problem": "Time spent"
   },
   "source": [
    "## Quick poll\n",
    "About how long did you spend working on this Reading Journal?"
   ]
  },
  {
   "cell_type": "markdown",
   "metadata": {
    "poll_response": true,
    "solution": "Time spent"
   },
   "source": [
    " "
   ]
  },
  {
   "cell_type": "markdown",
   "metadata": {
    "is_question": true,
    "problem": "Feedback"
   },
   "source": [
    "## Reading Journal feedback\n",
    "\n",
    "Have any comments on this Reading Journal? Feel free to leave them below and we'll read them when you submit your journal entry. This could include suggestions to improve the exercises, topics you'd like to see covered in class next time, or other feedback.\n",
    "\n",
    "If you have Python questions or run into problems while completing the reading, you should post them to Piazza instead so you can get a quick response before your journal is submitted."
   ]
  },
  {
   "cell_type": "markdown",
   "metadata": {
    "feedback_response": true,
    "solution": "Feedback"
   },
   "source": [
    " "
   ]
  }
 ],
 "metadata": {
  "celltoolbar": "Edit Metadata",
  "kernelspec": {
   "display_name": "Python 2",
   "language": "python",
   "name": "python2"
  },
  "language_info": {
   "codemirror_mode": {
    "name": "ipython",
    "version": 2
   },
   "file_extension": ".py",
   "mimetype": "text/x-python",
   "name": "python",
   "nbconvert_exporter": "python",
   "pygments_lexer": "ipython2",
   "version": "2.7.6"
  }
 },
 "nbformat": 4,
 "nbformat_minor": 0
}
