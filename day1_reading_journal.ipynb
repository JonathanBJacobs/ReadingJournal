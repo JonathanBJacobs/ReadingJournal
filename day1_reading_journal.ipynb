{
 "cells": [
  {
   "cell_type": "markdown",
   "metadata": {},
   "source": [
    "# Day 1 Reading Journal\n",
    "\n",
    "Hi everyone.  These are the exercises for the first set of readings from ThinkPython.  While this journal consists of several required exercises, it is meant to encourage active reading more generally.  You should use this journal to take detailed notes, catalog questions, and explore the content from ThinkPython deeply.\n",
    "\n",
    "For more information on using the Jupyter notebook, check out the documentation [here](http://nbviewer.jupyter.org/github/jupyter/notebook/blob/master/docs/source/examples/Notebook/Examples%20and%20Tutorials%20Index.ipynb).  Additionally, in order to write text in this document, you will be making use of markdown cells. A handy cheatsheet for markdown is available [here](https://github.com/adam-p/markdown-here/wiki/Markdown-Cheatsheet)."
   ]
  },
  {
   "cell_type": "markdown",
   "metadata": {},
   "source": [
    "## Chapter 1\n",
    "\n",
    "Note: the exercise numbers below match up with the reading for ease of cross referencing."
   ]
  },
  {
   "cell_type": "markdown",
   "metadata": {},
   "source": [
    "* Problem solving -- comp sci allows for many creative solutions\n",
    "* high-level v low-level\n",
    "  * hl eg python C, C++, java -- time has to be taken for the computer to turn them into LL, but easier to write, read, and are portable.\n",
    "  * LL -- only runs on one kind of computer -- has to be rewritten to run on anything else\n",
    "  \n",
    "* HL --> LL\n",
    "  * interpreters and compilers. \n",
    "    * interpreters read HL programs and execute it\n",
    "    * compilers completely translate a program before it runs\n",
    "      * source code -> object code or executable \n",
    "* Python uses an interpreter\n",
    "* script files end in .py\n",
    "* A program is a sequence of instructions\n",
    "* types of bugs: syntax, runtime, semantic\n",
    "* programming languages are formal languages that have been designed to express computations\n",
    "* tokens and structure\n",
    "  * tokens are like + and -\n",
    "  * structure: you can't have 3 + = 3\n",
    "* parsing is reading over and understanding a phrase\n",
    "* programs are completely unambiguous -- they do what they say\n"
   ]
  },
  {
   "cell_type": "code",
   "execution_count": 1,
   "metadata": {
    "collapsed": false
   },
   "outputs": [
    {
     "name": "stdout",
     "output_type": "stream",
     "text": [
      "Hello, World!\n"
     ]
    }
   ],
   "source": [
    "print 'Hello, World!'"
   ]
  },
  {
   "cell_type": "code",
   "execution_count": 2,
   "metadata": {
    "collapsed": false
   },
   "outputs": [
    {
     "name": "stdout",
     "output_type": "stream",
     "text": [
      "Hello, World!\n"
     ]
    }
   ],
   "source": [
    "print('Hello, World!')"
   ]
  },
  {
   "cell_type": "code",
   "execution_count": 3,
   "metadata": {
    "collapsed": false
   },
   "outputs": [
    {
     "name": "stdout",
     "output_type": "stream",
     "text": [
      "Hello, World!\n"
     ]
    }
   ],
   "source": [
    "print \"Hello, World!\";"
   ]
  },
  {
   "cell_type": "code",
   "execution_count": 4,
   "metadata": {
    "collapsed": false
   },
   "outputs": [
    {
     "name": "stdout",
     "output_type": "stream",
     "text": [
      "Hello, World!\n"
     ]
    }
   ],
   "source": [
    "a = 'Hello, World!'\n",
    "print a"
   ]
  },
  {
   "cell_type": "code",
   "execution_count": 5,
   "metadata": {
    "collapsed": false
   },
   "outputs": [
    {
     "ename": "SyntaxError",
     "evalue": "invalid syntax (<ipython-input-5-5ba8d82e7a0c>, line 1)",
     "output_type": "error",
     "traceback": [
      "\u001b[1;36m  File \u001b[1;32m\"<ipython-input-5-5ba8d82e7a0c>\"\u001b[1;36m, line \u001b[1;32m1\u001b[0m\n\u001b[1;33m    prnt 'hello!'\u001b[0m\n\u001b[1;37m                ^\u001b[0m\n\u001b[1;31mSyntaxError\u001b[0m\u001b[1;31m:\u001b[0m invalid syntax\n"
     ]
    }
   ],
   "source": [
    "prnt 'hello!'"
   ]
  },
  {
   "cell_type": "markdown",
   "metadata": {},
   "source": [
    "### Exercise 3\n",
    "\n",
    "Type `help()` to start the online help utility. Or you can type help('print') to get information about the print statement.  You should type `q` and then hit `enter` in the text box to exit the help utility. \n",
    "\n",
    "Note: this exercise is pretty simple (and there's not much to put in the box)!  We just want to make sure that you have tried out this super-handy feature of Python!"
   ]
  },
  {
   "cell_type": "code",
   "execution_count": 7,
   "metadata": {
    "collapsed": false
   },
   "outputs": [
    {
     "ename": "SyntaxError",
     "evalue": "invalid syntax (<ipython-input-7-23aede42d1d4>, line 1)",
     "output_type": "error",
     "traceback": [
      "\u001b[1;36m  File \u001b[1;32m\"<ipython-input-7-23aede42d1d4>\"\u001b[1;36m, line \u001b[1;32m1\u001b[0m\n\u001b[1;33m    help('print') q\u001b[0m\n\u001b[1;37m                  ^\u001b[0m\n\u001b[1;31mSyntaxError\u001b[0m\u001b[1;31m:\u001b[0m invalid syntax\n"
     ]
    }
   ],
   "source": [
    "help('print') "
   ]
  },
  {
   "cell_type": "markdown",
   "metadata": {},
   "source": [
    "### Exercise 4  \n",
    "\n",
    "Start the Python interpreter and use it as a calculator. Python’s syntax for math operations is almost the same as standard mathematical notation. For example, the symbols +, - and / denote addition, subtraction and division, as you would expect. The symbol for multiplication is *.\n",
    "\n",
    "If you run a 10 kilometer race in 43 minutes 30 seconds, what is your average time per mile? What is your average speed in miles per hour? (Hint: there are 1.61 kilometers in a mile). "
   ]
  },
  {
   "cell_type": "code",
   "execution_count": 12,
   "metadata": {
    "collapsed": false
   },
   "outputs": [
    {
     "name": "stdout",
     "output_type": "stream",
     "text": [
      "8.56714499893 mph\n"
     ]
    }
   ],
   "source": [
    "miles = 10/1.61 \n",
    "hours = 43.5/60\n",
    "averageSpeed = miles/hours\n",
    "print '%s mph' % (averageSpeed)"
   ]
  },
  {
   "cell_type": "markdown",
   "metadata": {},
   "source": [
    "## Chapter 2"
   ]
  },
  {
   "cell_type": "markdown",
   "metadata": {},
   "source": [
    "* Values -- integers, floats, strings\n",
    "    * don't use commas --python thinks it's a sequence of integers\n",
    "* state diagram\n",
    "  * hand written -- arrows show assignment\n",
    "* Variables have to begin with a letter -- lowercase is better\n",
    "    * can be letters and numbers only\n",
    "* python has a lot of keywords: reference them if python gets angry\n",
    "* operators are normal -- double asterisk is expoinentiation\n",
    "* python performs floor division when dealing with integers\n",
    "    * // results in a float\n",
    "    * if either number is a float, the answer is a float\n",
    "* scripts don't display unless you tell it to"
   ]
  },
  {
   "cell_type": "code",
   "execution_count": 14,
   "metadata": {
    "collapsed": false
   },
   "outputs": [
    {
     "name": "stdout",
     "output_type": "stream",
     "text": [
      "6\n"
     ]
    }
   ],
   "source": [
    "x = 5 \n",
    "print x+1"
   ]
  },
  {
   "cell_type": "markdown",
   "metadata": {},
   "source": [
    "* PEMDAS applies here \n",
    "\n",
    "* string operations\n",
    "  * concatenation is + "
   ]
  },
  {
   "cell_type": "code",
   "execution_count": 17,
   "metadata": {
    "collapsed": false
   },
   "outputs": [
    {
     "name": "stdout",
     "output_type": "stream",
     "text": [
      "okay go\n"
     ]
    }
   ],
   "source": [
    "one = 'okay'\n",
    "two = 'go'\n",
    "print one + ' ' + two"
   ]
  },
  {
   "cell_type": "markdown",
   "metadata": {},
   "source": [
    "* asterisk also works on strings"
   ]
  },
  {
   "cell_type": "code",
   "execution_count": 19,
   "metadata": {
    "collapsed": false
   },
   "outputs": [
    {
     "name": "stdout",
     "output_type": "stream",
     "text": [
      "okay okay okay \n"
     ]
    }
   ],
   "source": [
    "hmm = 'okay '\n",
    "print hmm*3"
   ]
  },
  {
   "cell_type": "markdown",
   "metadata": {},
   "source": [
    "* comments use #"
   ]
  },
  {
   "cell_type": "markdown",
   "metadata": {},
   "source": [
    "### Exercise 2  \n",
    "\n",
    "Assume that we execute the following assignment statements:\n",
    "\n",
    "width = 17\n",
    "height = 12.0\n",
    "delimiter = '.'\n",
    "\n",
    "For each of the following expressions, write the value of the expression and the type (of the value of the expression).\n",
    "\n",
    "1. `width/2`\n",
    "2. `width/2.0`\n",
    "3. `height/3`\n",
    "4. `1 + 2 * 5`\n",
    "5. `delimiter * 5`\n",
    "\n",
    "Please use the following markdown cell to provide your answer."
   ]
  },
  {
   "cell_type": "markdown",
   "metadata": {},
   "source": [
    "1. 8\n",
    "2. 8.5\n",
    "3. 4.0\n",
    "4. 11\n",
    "5. ....."
   ]
  },
  {
   "cell_type": "code",
   "execution_count": 20,
   "metadata": {
    "collapsed": false
   },
   "outputs": [
    {
     "name": "stdout",
     "output_type": "stream",
     "text": [
      "8\n",
      "8.5\n",
      "4.0\n",
      "11\n",
      ".....\n"
     ]
    }
   ],
   "source": [
    "width = 17\n",
    "height = 12.0\n",
    "delimiter = '.'\n",
    "print width/2\n",
    "print width/2.0\n",
    "print height/3\n",
    "print 1 + 2*5\n",
    "print delimiter*5"
   ]
  },
  {
   "cell_type": "markdown",
   "metadata": {},
   "source": [
    "### Exercise 3  \n",
    "\n",
    "Practice using the Python interpreter as a calculator.  For each of these provide Python code that computes each answer.\n",
    "\n",
    "    \n"
   ]
  },
  {
   "cell_type": "markdown",
   "metadata": {},
   "source": [
    "The volume of a sphere with radius r is 4/3 $\\pi r^3$. What is the volume of a sphere with radius 5? Hint: 392.7 is wrong!"
   ]
  },
  {
   "cell_type": "code",
   "execution_count": 24,
   "metadata": {
    "collapsed": false
   },
   "outputs": [
    {
     "name": "stdout",
     "output_type": "stream",
     "text": [
      "523.598333333\n"
     ]
    }
   ],
   "source": [
    "radius = 5.0\n",
    "volume = 4.0/3.0 * 3.14159 * radius**3\n",
    "print volume"
   ]
  },
  {
   "cell_type": "markdown",
   "metadata": {},
   "source": [
    "Suppose the cover price of a book is \\$24.95, but bookstores get a 40% discount. Shipping costs \\$3 for the first copy and 75 cents for each additional copy. What is the total wholesale cost for 60 copies?"
   ]
  },
  {
   "cell_type": "code",
   "execution_count": 25,
   "metadata": {
    "collapsed": false
   },
   "outputs": [
    {
     "name": "stdout",
     "output_type": "stream",
     "text": [
      "945.45\n"
     ]
    }
   ],
   "source": [
    "price = 24.95\n",
    "discount = 0.6 * price\n",
    "coppies = 60\n",
    "shipping = (coppies-1)*0.75 + 3.0\n",
    "totalCost = coppies*discount + shipping\n",
    "print totalCost"
   ]
  },
  {
   "cell_type": "markdown",
   "metadata": {},
   "source": [
    "If I leave my house at 6:52 am and run 1 mile at an easy pace (8:15 per mile), then 3 miles at tempo (7:12 per mile) and 1 mile at easy pace again, what time do I get home for breakfast? "
   ]
  },
  {
   "cell_type": "code",
   "execution_count": 42,
   "metadata": {
    "collapsed": false
   },
   "outputs": [
    {
     "name": "stdout",
     "output_type": "stream",
     "text": [
      "7:36.1\n"
     ]
    }
   ],
   "source": [
    "hour = 6\n",
    "minute = 52\n",
    "easyP = 8.25\n",
    "tempo = 7.2\n",
    "timeElapsed = startT + 2*easyP +3*tempo\n",
    "hour += 1\n",
    "minute = timeElapsed - 8\n",
    "print \"%s:%s\" % (hour,minute)\n"
   ]
  },
  {
   "cell_type": "markdown",
   "metadata": {},
   "source": [
    "## Chapter 3"
   ]
  },
  {
   "cell_type": "markdown",
   "metadata": {},
   "source": [
    "* a function is a named sequence of statements\n",
    "  * call the funtion like type('word')\n",
    "  * 'word' is the argument in this case\n",
    "  * type returns the type of variable the argument is\n",
    "* int() converts a value from one type to another\n",
    "  * remember, it chops off decimals and won't take normal words\n",
    "* float() and str() do the equivalent things"
   ]
  },
  {
   "cell_type": "code",
   "execution_count": 43,
   "metadata": {
    "collapsed": false
   },
   "outputs": [
    {
     "name": "stdout",
     "output_type": "stream",
     "text": [
      "15\n"
     ]
    }
   ],
   "source": [
    "print int('15')"
   ]
  },
  {
   "cell_type": "markdown",
   "metadata": {},
   "source": [
    "* a module contains a collection of functions\n",
    "* you import a module, which makes a module object\n",
    "* dot notation is like decibels = 10 * math.log10(ratio)\n",
    "  * it goes into math is a way of saying it\n",
    "* composition -- funcitons in the arguemnts of functions and whatnot!\n",
    "\n",
    "* adding new functioins\n",
    "  * key word \"def\" aka def addSomething():\n",
    "                           print 'this function doesn't do anything!'\n",
    "                           \n",
    "  * the def line is called the header, the rest is called the body\n",
    "* it really creates a function object\n",
    "\n",
    "*  flow of execution \n",
    "  * gotta make sure funcitons are executing in the right order\n",
    "  * functions are like a detour -- different code is run\n",
    "  \n",
    "* some funcitons require areguments \n",
    "  * like math.sin() requires a number to do the sin of\n",
    "  \n",
    "* variables and parameters are local\n",
    "    * when you make a variable in a function, only that function had that variable"
   ]
  },
  {
   "cell_type": "code",
   "execution_count": 44,
   "metadata": {
    "collapsed": false
   },
   "outputs": [
    {
     "name": "stdout",
     "output_type": "stream",
     "text": [
      "11\n"
     ]
    }
   ],
   "source": [
    "a = 5\n",
    "def letsSee(num):\n",
    "    print num + a\n",
    "letsSee(6)"
   ]
  },
  {
   "cell_type": "markdown",
   "metadata": {},
   "source": [
    "* Some functions return a value (fruitful functions), like math.sin(), others do somethin, but don't return a value(void functions), like the print_twice() example in the book\n",
    "    * you likely want to do something with functions that return something\n",
    "    \n",
    "* Why functions?\n",
    "  * group statements --> easier to read and debug\n",
    "  * make a program smaller by eliminating repetetive code\n",
    "  * you can reuse functions in other programs if they work well\n",
    "  \n",
    "* Importing with from\n",
    "  * allows you to take one function from a module \n",
    "    * eg from math import cos \n",
    "    * it takes up less space in yah program and then you can use cos\n",
    "    \n",
    "  "
   ]
  },
  {
   "cell_type": "markdown",
   "metadata": {},
   "source": [
    "### Exercise 3\n",
    "\n",
    "Python provides a built-in function called len that returns the length of a string, so the value of len('allen') is 5.\n",
    "Write a function named right_justify that takes a string named s as a parameter and prints the string with enough leading spaces so that the last letter of the string is in column 70 of the display.\n",
    "\n",
    "```\n",
    ">>> right_justify('allen')\n",
    "                                                                 allen```"
   ]
  },
  {
   "cell_type": "code",
   "execution_count": 45,
   "metadata": {
    "collapsed": false
   },
   "outputs": [
    {
     "name": "stdout",
     "output_type": "stream",
     "text": [
      "                                                                 allen\n"
     ]
    }
   ],
   "source": [
    "def right_justify(word):\n",
    "    spaces = 70 - len(word)\n",
    "    print ' '*spaces + word\n",
    "right_justify('allen')"
   ]
  },
  {
   "cell_type": "markdown",
   "metadata": {},
   "source": [
    "### Exercise 5\n",
    "\n",
    "This exercise can be done using only the statements and other features we have learned so far.\n",
    "\n",
    "(a) Write a function that draws a grid like the following:\n",
    "```\n",
    "+ - - - - + - - - - +\n",
    "|         |         |\n",
    "|         |         |\n",
    "|         |         |\n",
    "|         |         |\n",
    "+ - - - - + - - - - +\n",
    "|         |         |\n",
    "|         |         |\n",
    "|         |         |\n",
    "|         |         |\n",
    "+ - - - - + - - - - +\n",
    "```\n",
    "**Hint:** to print more than one value on a line, you can print a comma-separated sequence:\n",
    "print '+', '-'\n",
    "If the sequence ends with a comma, Python leaves the line unfinished, so the value printed next appears on the same line.\n",
    "print '+', \n",
    "print '-'\n",
    "The output of these statements is '+ -'.\n",
    "A print statement all by itself ends the current line and goes to the next line."
   ]
  },
  {
   "cell_type": "code",
   "execution_count": 49,
   "metadata": {
    "collapsed": false
   },
   "outputs": [
    {
     "name": "stdout",
     "output_type": "stream",
     "text": [
      "+ - - - - + - - - - +\n",
      "|         |         |\n",
      "|         |         |\n",
      "|         |         |\n",
      "|         |         |\n",
      "+ - - - - + - - - - +\n",
      "|         |         |\n",
      "|         |         |\n",
      "|         |         |\n",
      "|         |         |\n",
      "+ - - - - + - - - - +\n"
     ]
    }
   ],
   "source": [
    "def drawGrid():\n",
    "    line1 = '+ ' + '- '*4 + '+ ' + '- '*4 + '+'\n",
    "    line2 = '|' + ' '*9 + '|'+ ' '*9 + '|'\n",
    "    print line1\n",
    "    print line2\n",
    "    print line2\n",
    "    print line2\n",
    "    print line2\n",
    "    print line1\n",
    "    print line2\n",
    "    print line2\n",
    "    print line2\n",
    "    print line2\n",
    "    print line1\n",
    "    \n",
    "drawGrid()"
   ]
  },
  {
   "cell_type": "markdown",
   "metadata": {},
   "source": [
    "(b) Write a function that draws a similar grid with four rows and four columns."
   ]
  },
  {
   "cell_type": "code",
   "execution_count": 51,
   "metadata": {
    "collapsed": false
   },
   "outputs": [
    {
     "name": "stdout",
     "output_type": "stream",
     "text": [
      "+ - - - - + - - - - + - - - - + - - - - +\n",
      "|         |         |         |         |\n",
      "|         |         |         |         |\n",
      "|         |         |         |         |\n",
      "|         |         |         |         |\n",
      "+ - - - - + - - - - + - - - - + - - - - +\n",
      "|         |         |         |         |\n",
      "|         |         |         |         |\n",
      "|         |         |         |         |\n",
      "|         |         |         |         |\n",
      "+ - - - - + - - - - + - - - - + - - - - +\n",
      "|         |         |         |         |\n",
      "|         |         |         |         |\n",
      "|         |         |         |         |\n",
      "|         |         |         |         |\n",
      "+ - - - - + - - - - + - - - - + - - - - +\n",
      "|         |         |         |         |\n",
      "|         |         |         |         |\n",
      "|         |         |         |         |\n",
      "|         |         |         |         |\n",
      "+ - - - - + - - - - + - - - - + - - - - +\n"
     ]
    }
   ],
   "source": [
    "def drawGrid():\n",
    "    line1 = '+ ' + '- '*4 + '+ ' + '- '*4 + '+ ' + '- '*4 + '+ '  + '- '*4 + '+'\n",
    "    line2 = '|' + ' '*9 + '|'+ ' '*9 + '|' + ' '*9 + '|' + ' '*9 + '|'\n",
    "    print line1 \n",
    "    print line2\n",
    "    print line2\n",
    "    print line2\n",
    "    print line2\n",
    "    print line1\n",
    "    print line2\n",
    "    print line2\n",
    "    print line2\n",
    "    print line2\n",
    "    print line1\n",
    "    print line2\n",
    "    print line2\n",
    "    print line2\n",
    "    print line2\n",
    "    print line1\n",
    "    print line2\n",
    "    print line2\n",
    "    print line2\n",
    "    print line2\n",
    "    print line1\n",
    "    \n",
    "    \n",
    "drawGrid()"
   ]
  },
  {
   "cell_type": "markdown",
   "metadata": {},
   "source": [
    "## Chapter 5.1 - 5.7"
   ]
  },
  {
   "cell_type": "markdown",
   "metadata": {},
   "source": [
    "* modulo is done with % \n",
    "* boolean True and False\n",
    "* rational operators !=, >, <, >=, <=, ==\n",
    "\n",
    "* logical operators are and, or, and not like in java\n",
    "\n",
    "* conditional execution \n",
    "  * if statements eg if x > 3:\n",
    "  * the boolean x > 3 is called the condition\n",
    "  * compound statements are like if x<1 and x > 0\n",
    "  * sometimes it's useful to have a body with no statements so you use pass eg if x<0: pass\n",
    "  \n",
    "* alternative execution\n",
    "    * else statement after the if body. If the condition is negative, this executes.\n",
    "* chained use elif, which puts another condition if and only if the first fails\n",
    "* if a function calls itself that is called recursion\n",
    "* stack diagrams -- hand track the path of the funciton\n",
    "* a function is recursive, the process is called recursion\n",
    "* base case is where recursion ends\n",
    "* infinite recursion never reaches a base case --- bad idea -- breaks things\n",
    "* keyboard input\n",
    "  * text = raw_input()\n",
    "  * type something into the console, hit enter, you have a value!\n"
   ]
  },
  {
   "cell_type": "markdown",
   "metadata": {},
   "source": [
    "### Exercise 3  \n",
    "\n",
    "Fermat’s Last Theorem says that there are no positive integers a, b, and c such that $a^n + b^n = c^n$ for any values of n greater than 2.\n",
    "\n",
    "(a) Write a function named `check_fermat` that takes four parameters—a, b, c and n—and that checks to see if Fermat’s theorem holds. If n is greater than 2 and it turns out to be true that\n",
    "$a^n + b^n = c^n$ the program should print, \"Holy smokes, Fermat was wrong!\" Otherwise the program should print, \"No, that doesn’t work.\""
   ]
  },
  {
   "cell_type": "code",
   "execution_count": 53,
   "metadata": {
    "collapsed": false
   },
   "outputs": [
    {
     "name": "stdout",
     "output_type": "stream",
     "text": [
      "No, that doesn't work\n"
     ]
    }
   ],
   "source": [
    "def fermats(a,b,c,n):\n",
    "    if a**n + b**n == c**n and c > 2:\n",
    "        print \"Holy smokes, Fermat was wrong!\"\n",
    "    elif a**n + b**n == c**n and c <= 2:   \n",
    "        print \"that works\"\n",
    "    else:\n",
    "        print \"No, that doesn't work\"\n",
    "fermats(4,5,3,6)"
   ]
  },
  {
   "cell_type": "markdown",
   "metadata": {},
   "source": [
    "(b) Write a function that prompts the user to input values for a, b, c and n, converts them to integers, and uses check_fermat to check whether they violate Fermat’s theorem."
   ]
  },
  {
   "cell_type": "code",
   "execution_count": 56,
   "metadata": {
    "collapsed": false
   },
   "outputs": [
    {
     "name": "stdout",
     "output_type": "stream",
     "text": [
      "type a\n",
      "1\n",
      "type b\n",
      "2\n",
      "type c\n",
      "4\n",
      "type n\n",
      "6\n",
      "No, that doesn't work\n"
     ]
    }
   ],
   "source": [
    "print 'type a'\n",
    "a = raw_input()\n",
    "print 'type b'\n",
    "b = raw_input()\n",
    "print 'type c'\n",
    "c = raw_input()\n",
    "print 'type n'\n",
    "n = raw_input()\n",
    "a = int(a)\n",
    "b = int(b)\n",
    "c = int(c)\n",
    "n = int(n)\n",
    "def fermats(a,b,c,n):\n",
    "    if a**n + b**n == c**n and c > 2:\n",
    "        print \"Holy smokes, Fermat was wrong!\"\n",
    "    elif a**n + b**n == c**n and c <= 2:   \n",
    "        print \"that works\"\n",
    "    else:\n",
    "        print \"No, that doesn't work\"\n",
    "fermats(a,b,c,n)\n"
   ]
  },
  {
   "cell_type": "markdown",
   "metadata": {},
   "source": [
    "### Exercise 4  \n",
    "\n",
    "If you are given three sticks, you may or may not be able to arrange them in a triangle. For example, if one of the sticks is 12 inches long and the other two are one inch long, it is clear that you will not be able to get the short sticks to meet in the middle. For any three lengths, there is a simple test to see if it is possible to form a triangle:\n",
    "> If any of the three lengths is greater than the sum of the other two, then you cannot form a triangle. Otherwise, you can. (If the sum of two lengths equals the third, they form what is called a “degenerate” triangle.)\n",
    "\n",
    "(a) Write a function named `is_triangle` that takes three integers as arguments, and that prints either \"Yes\" or \"No,\" depending on whether you can or cannot form a triangle from sticks with the given lengths."
   ]
  },
  {
   "cell_type": "code",
   "execution_count": 54,
   "metadata": {
    "collapsed": false
   },
   "outputs": [
    {
     "name": "stdout",
     "output_type": "stream",
     "text": [
      "No\n"
     ]
    }
   ],
   "source": [
    "def is_triangle(a,b,c):\n",
    "    if a + b > c:\n",
    "        print \"No\"\n",
    "    elif a + c > b:\n",
    "        print \"No\"\n",
    "    elif c + b > a:\n",
    "        print \"No\"\n",
    "    else:\n",
    "        print \"Yes\"\n",
    "is_triangle(1,2,3)"
   ]
  },
  {
   "cell_type": "markdown",
   "metadata": {},
   "source": [
    "(b) Write a function that prompts the user to input three stick lengths, converts them to integers, and uses is_triangle to check whether sticks with the given lengths can form a triangle."
   ]
  },
  {
   "cell_type": "code",
   "execution_count": 55,
   "metadata": {
    "collapsed": false
   },
   "outputs": [
    {
     "name": "stdout",
     "output_type": "stream",
     "text": [
      "type a\n",
      "1\n",
      "type b\n",
      "2\n",
      "type c\n",
      "3\n",
      "No\n"
     ]
    }
   ],
   "source": [
    "print 'type a'\n",
    "a = raw_input()\n",
    "print 'type b'\n",
    "b = raw_input()\n",
    "print 'type c'\n",
    "c = raw_input()\n",
    "a = int(a)\n",
    "b = int(b)\n",
    "c = int(c)\n",
    "def is_triangle(a,b,c):\n",
    "    if a + b > c:\n",
    "        print \"No\"\n",
    "    elif a + c > b:\n",
    "        print \"No\"\n",
    "    elif c + b > a:\n",
    "        print \"No\"\n",
    "    else:\n",
    "        print \"Yes\"\n",
    "is_triangle(a,b,c)"
   ]
  },
  {
   "cell_type": "code",
   "execution_count": 4,
   "metadata": {
    "collapsed": false
   },
   "outputs": [
    {
     "name": "stdout",
     "output_type": "stream",
     "text": [
      "+  -  -  -  -  +  -  -  -  -  |              |              |              |              |              |              |              |             \n"
     ]
    }
   ],
   "source": [
    "def grid(rows,col):\n",
    "    for i in range(rows*5):\n",
    "\n",
    "        for j in range(col*5):\n",
    "            \n",
    "    \t\tif i%5 == 0:\n",
    "    \t\t\tif j%5 == 0:\n",
    "    \t\t\t    print '+ ',\n",
    "    \t\t\telse:\n",
    "    \t\t\t\tprint '- ',\n",
    "    \t\telse:\n",
    "    \t\t\tif j%5 == 0:\n",
    "    \t\t\t\tprint '| ',\n",
    "    \t\t\telse:\n",
    "    \t\t\t\tprint '  ',\n",
    "                    \n",
    "grid(1,2)"
   ]
  },
  {
   "cell_type": "markdown",
   "metadata": {},
   "source": [
    "## Notes for the Instructors\n",
    "\n",
    "Please use the space below to write comments to help us plan the next class session.  For instance, if you want to see us go over an example of a particular type of problem, you can indicate that here.\n",
    "\n",
    "Please remember that the best way to get quick feedback from the instructors as well as your peers, is to use Piazza.  However, consider using this channel if it doesn't make sense to post your note to Piazza."
   ]
  },
  {
   "cell_type": "markdown",
   "metadata": {},
   "source": []
  }
 ],
 "metadata": {
  "kernelspec": {
   "display_name": "Python 2",
   "language": "python",
   "name": "python2"
  },
  "language_info": {
   "codemirror_mode": {
    "name": "ipython",
    "version": 2
   },
   "file_extension": ".py",
   "mimetype": "text/x-python",
   "name": "python",
   "nbconvert_exporter": "python",
   "pygments_lexer": "ipython2",
   "version": "2.7.6"
  }
 },
 "nbformat": 4,
 "nbformat_minor": 0
}
