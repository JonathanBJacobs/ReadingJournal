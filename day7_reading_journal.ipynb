{
 "cells": [
  {
   "cell_type": "markdown",
   "metadata": {},
   "source": [
    "# Day 7 Reading Journal\n",
    "\n",
    "This journal includes several required exercises, but it is meant to encourage active reading more generally.  You should use the journal to take detailed notes, catalog questions, and explore the content from Think Python deeply.\n",
    "\n",
    "Reading: Think Python Chapter 11, 12\n",
    "\n",
    "**Due: Thursday, February 18 at 12 noon**\n",
    "\n"
   ]
  },
  {
   "cell_type": "markdown",
   "metadata": {},
   "source": [
    "## [Chapter 11](http://www.greenteapress.com/thinkpython/html/thinkpython012.html)\n"
   ]
  },
  {
   "cell_type": "markdown",
   "metadata": {},
   "source": [
    "**Quick check:** In about one sentence using your own words, what is a dictionary?"
   ]
  },
  {
   "cell_type": "markdown",
   "metadata": {},
   "source": [
    " Assigning a value to a specific key which you can reference to get the value."
   ]
  },
  {
   "cell_type": "markdown",
   "metadata": {
    "is_question": true,
    "problem": "Exercise 11.2"
   },
   "source": [
    "### Exercise 2  \n",
    "\n",
    "Dictionaries have a [method called `get`](https://docs.python.org/2/library/stdtypes.html#mapping-types-dict) that takes a key and a default value. If the key appears in the dictionary, `get` returns the corresponding value; otherwise it returns the default value. For example:\n",
    "\n",
    "```\n",
    ">>> h = histogram('a')\n",
    ">>> print h\n",
    "{'a': 1}\n",
    ">>> h.get('a', 0)\n",
    "1\n",
    ">>> h.get('b', 0)\n",
    "0\n",
    "```\n",
    "\n",
    "Use `get` to write `histogram` more concisely. You should be able to eliminate the `if` statement. Add unit tests for your histogram implementation."
   ]
  },
  {
   "cell_type": "code",
   "execution_count": 11,
   "metadata": {
    "collapsed": false,
    "solution": "Exercise 11.2"
   },
   "outputs": [],
   "source": [
    "def histogram(s):\n",
    "    \"\"\"\n",
    "    takes a string, returns a histogram with letter keys and values \n",
    "    associated with the number of the letters\n",
    "    \n",
    "    \n",
    "    >>> histogram('aaabbbcccddd').get('a',0)\n",
    "    3\n",
    "    \n",
    "    >>> histogram('aaabbbcccddd').get('z',0)\n",
    "    0\n",
    "    \n",
    "    \"\"\"\n",
    "    \n",
    "    d = dict()\n",
    "    for c in s:\n",
    "        d[c] = d.get(c,0) + 1\n",
    "    return d\n",
    "import doctest\n",
    "doctest.run_docstring_examples(histogram,globals())"
   ]
  },
  {
   "cell_type": "markdown",
   "metadata": {
    "is_question": true,
    "problem": "Exercise 11.4"
   },
   "source": [
    "### Exercise 4  \n",
    "\n",
    "Modify `reverse_lookup` so that it builds and returns a list of all keys that map to `v`, or an empty list if there are none. Add unit tests for your implementation."
   ]
  },
  {
   "cell_type": "code",
   "execution_count": 23,
   "metadata": {
    "collapsed": false,
    "solution": "Exercise 11.4"
   },
   "outputs": [],
   "source": [
    "def reverse_lookup(d, v):\n",
    "    \"\"\"\n",
    "    returns all of the keys for a given value\n",
    "    >>> reverse_lookup(histogram('aaabbbccc'),3)\n",
    "    ['a', 'b', 'c']\n",
    "    \n",
    "    >>> reverse_lookup(histogram('dddpefjag'),3)\n",
    "    ['d']\n",
    "    \n",
    "    \n",
    "    \"\"\"\n",
    "    \n",
    "    keys =[]\n",
    "    for k in d:\n",
    "        if d[k] == v:\n",
    "            keys.append(k)\n",
    "    keys.sort()\n",
    "    return keys\n",
    "import doctest\n",
    "doctest.run_docstring_examples(reverse_lookup,globals())"
   ]
  },
  {
   "cell_type": "markdown",
   "metadata": {},
   "source": [
    "If you'd like to learn more about errors and exceptions, you can check out the [Python tutorial](https://docs.python.org/2/tutorial/errors.html) or read ahead to [Appendix A](http://www.greenteapress.com/thinkpython/html/thinkpython021.html) of Think Python. If you choose to use doctest for your unit testing, it can also [deal with exceptions](https://docs.python.org/2/library/doctest.html#what-about-exceptions)."
   ]
  },
  {
   "cell_type": "markdown",
   "metadata": {},
   "source": [
    "**Quick check** What type of objects can be used as keys to a dictionary, i.e. what property must they have?"
   ]
  },
  {
   "cell_type": "markdown",
   "metadata": {},
   "source": [
    "they must be immutable objects "
   ]
  },
  {
   "cell_type": "markdown",
   "metadata": {
    "is_question": true,
    "problem": "Exercise 11.6"
   },
   "source": [
    "### Exercise 6 (modified)\n",
    "\n",
    "Create a memoized version of your Levenshtein distance function from Day 7. What kind of performance change do you see?\n",
    "\n",
    "Optional: If you'd like to get some quantitative results, you could check out the [timeit](https://docs.python.org/2/library/timeit.html) module\n",
    "\n",
    "Note: You can also study Fibonacci here if you prefer."
   ]
  },
  {
   "cell_type": "code",
   "execution_count": 12,
   "metadata": {
    "collapsed": true,
    "solution": "Exercise 11.6"
   },
   "outputs": [],
   "source": [
    "known = {0:0, 1:1}\n",
    "def fibonacci(n):\n",
    "   \n",
    "    if n in known[n]:\n",
    "        return known[n]\n",
    "    \n",
    "    result = fibonacci(n-1) + fibonacci(n-2)\n",
    "    known[n] = result\n",
    "    return result\n"
   ]
  },
  {
   "cell_type": "markdown",
   "metadata": {},
   "source": [
    "## [Chapter 12](http://www.greenteapress.com/thinkpython/html/thinkpython013.html)\n",
    "\n",
    "**Quick check:** In about one sentence using your own words, what is a tuple?"
   ]
  },
  {
   "cell_type": "markdown",
   "metadata": {},
   "source": [
    "tuples are imutable lists"
   ]
  },
  {
   "cell_type": "markdown",
   "metadata": {
    "is_question": true,
    "problem": "Exercise 12.1"
   },
   "source": [
    "### Exercise 1  \n",
    "\n",
    "Many of the built-in functions use variable-length argument tuples. For example, `max` and `min` can take any number of arguments:\n",
    "\n",
    "```\n",
    ">>> max(1,2,3)\n",
    "3\n",
    "```\n",
    "\n",
    "But `sum` does not.\n",
    "\n",
    "```\n",
    ">>> sum(1,2,3)\n",
    "TypeError: sum expected at most 2 arguments, got 3\n",
    "```\n",
    "\n",
    "Write a function called ```sumall``` that takes any number of arguments and returns their sum. \n",
    "\n",
    "Write unit tests for your function. Do I actually need to keep saying this? Let's assume it's always a good idea :)"
   ]
  },
  {
   "cell_type": "code",
   "execution_count": 1,
   "metadata": {
    "collapsed": false,
    "solution": "Exercise 12.1"
   },
   "outputs": [],
   "source": [
    "def sumall(*multi):\n",
    "    \"\"\"\n",
    "    takes a tuple of strings , returns the sum of them!\n",
    "    \n",
    "    >>> sumall(1,2,3,4,5,6)\n",
    "    21\n",
    "    \n",
    "    >>> sumall(4,1)\n",
    "    5\n",
    "    \"\"\"\n",
    "    \n",
    "    total = 0\n",
    "    for elem in multi:\n",
    "        total += elem\n",
    "    return total\n",
    "\n",
    "import doctest\n",
    "doctest.run_docstring_examples(sumall,globals())\n"
   ]
  },
  {
   "cell_type": "markdown",
   "metadata": {},
   "source": [
    "If you're interested in more flexible ways to pass arguments to functions, check out the [Python tutorial](https://docs.python.org/2/tutorial/controlflow.html#more-on-defining-functions). For instance, you can also use keyword arguments, which are collected into a dictionary just like `*` gathers variable numbers of positional arguments into a tuple.\n",
    "\n",
    "This pattern is very common for defining functions with complex optional behaviors in Python, and you will often see definitions like:\n",
    "\n",
    "```\n",
    "def my_func(required_argument1, *arguments, **keywords):\n",
    "    ...\n",
    "```"
   ]
  },
  {
   "cell_type": "markdown",
   "metadata": {
    "is_question": true,
    "problem": "Exercise 12 sort"
   },
   "source": [
    "### Exercise\n",
    "\n",
    "Write a function `sort_by_last_letter` that takes a list of words and returns a new list with the words sorted alphabetically by the _last letter_ in the word. Hint: use the **Decorate, Sort, Undecorate** pattern. Write unit tests for your function."
   ]
  },
  {
   "cell_type": "code",
   "execution_count": 5,
   "metadata": {
    "collapsed": false,
    "solution": "Exercise 12 sort"
   },
   "outputs": [],
   "source": [
    "def sort_by_last_letter(words):\n",
    "    \n",
    "    \"\"\"\n",
    "    sorts a list of words alphabetically by the last letter in the word\n",
    "    \n",
    "    >>> sort_by_last_letter(['aa', 'zz', 'cc', 'dd', 'bb'])\n",
    "    ['aa', 'bb', 'cc', 'dd', 'zz']\n",
    "    \n",
    "    >>> sort_by_last_letter(['deb', 'jon', 'hello', 'cheese'])\n",
    "    ['deb', 'cheese', 'jon', 'hello']\n",
    "    \"\"\"\n",
    "    temp = []\n",
    "    \n",
    "    for word in words:\n",
    "        temp.append(word[-1],word)\n",
    "    \n",
    "    temp.sort(reverse=True)\n",
    "    \n",
    "    result = []\n",
    "    \n",
    "    for endLetter, word in temp:\n",
    "        result.append(word)\n",
    "    return result\n",
    "    "
   ]
  },
  {
   "cell_type": "markdown",
   "metadata": {},
   "source": [
    "**Quick check** Give an example of when you might use each sequence type:\n",
    "\n",
    "- tuple\n",
    "\n",
    "- list\n",
    "\n",
    "- string"
   ]
  },
  {
   "cell_type": "markdown",
   "metadata": {},
   "source": [
    "tuple: when you're not sure how many inputs your function will need to take, so all of the inputs are gathered into a tuple\n",
    "\n",
    "list: when you need to do simple organization, like storing and organizing a group of numbers\n",
    "\n",
    "string: storing a word or a phrase that is significant as a whole string, not its individual characters"
   ]
  },
  {
   "cell_type": "markdown",
   "metadata": {
    "is_question": true,
    "problem": "Exercise 12.3"
   },
   "source": [
    "### Exercise 3  \n",
    "\n",
    "Write a function called `most_frequent` that takes a string and prints the letters in decreasing order of frequency. Find text samples from several different languages and see how letter frequency varies between languages. Compare your results with the tables at http://en.wikipedia.org/wiki/Letter_frequencies. \n",
    "\n",
    "Allen's solution (try it on your own first): http://thinkpython.com/code/most_frequent.py. "
   ]
  },
  {
   "cell_type": "code",
   "execution_count": 29,
   "metadata": {
    "collapsed": false,
    "solution": "Exercise 12.3"
   },
   "outputs": [
    {
     "name": "stdout",
     "output_type": "stream",
     "text": [
      "e: 6\n",
      "s: 5\n",
      "t: 4\n",
      "h: 4\n",
      "w: 3\n",
      "l: 3\n",
      "i: 3\n",
      "o: 2\n",
      "r: 1\n",
      "p: 1\n",
      "d: 1\n",
      "a: 1\n",
      "\n",
      "\n",
      "g: 3\n",
      "a: 3\n",
      "s: 2\n",
      "n: 2\n",
      "l: 2\n",
      "i: 2\n",
      "e: 2\n",
      "u: 1\n",
      "h: 1\n",
      "\n",
      "\n"
     ]
    }
   ],
   "source": [
    "def frequency(word):\n",
    "    \"\"\"takes a string and returns a dictionary with letters and their \n",
    "    frequency\n",
    "    \"\"\"\n",
    "    \n",
    "    d = dict()\n",
    "    for letter in word:\n",
    "        if letter != ' ':\n",
    "            d[letter] = d.get(letter,0) + 1\n",
    "    return d\n",
    "def most_frequent(word):\n",
    "    \n",
    "    \"\"\"takes a string and prints letters in decreasing order of\n",
    "    frequency\"\"\"\n",
    "    letterTable = frequency(word)\n",
    "    brokenUp = letterTable.items()\n",
    "    for i in range(len(brokenUp)):\n",
    "        temp = brokenUp[i][1], brokenUp[i][0]\n",
    "        brokenUp[i] = temp\n",
    "    \n",
    "    \n",
    "    brokenUp.sort(reverse=True)\n",
    "    \n",
    "    for num, letter in brokenUp:\n",
    "        print letter + ': ' + str(num)\n",
    "    print '\\n'\n",
    "    \n",
    "\n",
    "most_frequent(\"lets see how well it does with this phrase\")\n",
    "most_frequent('english is a language')"
   ]
  },
  {
   "cell_type": "markdown",
   "metadata": {
    "is_question": true,
    "problem": "Exercise 12.6"
   },
   "source": [
    "### Challenge: Exercise 6   (optional)\n",
    "\n",
    "From a [Car Talk Puzzler](http://www.cartalk.com/content/puzzlers):\n",
    "\n",
    "What is the longest English word, that remains a valid English word, as you remove its letters one at a time?\n",
    "\n",
    "Now, letters can be removed from either end, or the middle, but you can’t rearrange any of the letters. Every time you drop a letter, you wind up with another English word. If you do that, you’re eventually going to wind up with one letter and that too is going to be an English word—one that’s found in the dictionary. I want to know what’s the longest word and how many letters does it have?\n",
    "\n",
    "I’m going to give you a little modest example: Sprite. Ok? You start off with sprite, you take a letter off, one from the interior of the word, take the r away, and we’re left with the word spite, then we take the e off the end, we’re left with spit, we take the s off, we’re left with pit, it, and I. \n",
    "\n",
    "Write a program to find all words that can be reduced in this way, and then find the longest one.\n",
    "\n",
    "This exercise is a little more challenging than most, so here are some suggestions:\n",
    "\n",
    "- You might want to write a function that takes a word and computes a list of all the words that can be formed by removing one letter. These are the “children” of the word.\n",
    "- Recursively, a word is reducible if any of its children are reducible. As a base case, you can consider the empty string reducible.\n",
    "- The word list from [Chapter 9.1](http://www.greenteapress.com/thinkpython/html/thinkpython010.html) Exercise 1 doesn’t contain single letter words. So you might want to add “I”, “a”, and the empty string.\n",
    "- To improve the performance of your program, you might want to memoize the words that are known to be reducible.\n",
    "\n",
    "Allen's solution: http://thinkpython.com/code/reducible.py."
   ]
  },
  {
   "cell_type": "code",
   "execution_count": null,
   "metadata": {
    "collapsed": true,
    "solution": "Exercise 12.6"
   },
   "outputs": [],
   "source": []
  },
  {
   "cell_type": "markdown",
   "metadata": {
    "is_question": true,
    "problem": "Feedback"
   },
   "source": [
    "## Reading Journal feedback\n",
    "\n",
    "Have any comments on this Reading Journal? Feel free to leave them below and we'll read them when you submit your journal entry. This could include suggestions to improve the exercises, topics you'd like to see covered in class next time, or other feedback.\n",
    "\n",
    "If you have Python questions or run into problems while completing the reading, you should post them to Piazza instead so you can get a quick response before your journal is submitted."
   ]
  },
  {
   "cell_type": "markdown",
   "metadata": {
    "feedback_response": true,
    "solution": "Feedback"
   },
   "source": [
    " "
   ]
  }
 ],
 "metadata": {
  "celltoolbar": "Edit Metadata",
  "kernelspec": {
   "display_name": "Python 2",
   "language": "python",
   "name": "python2"
  },
  "language_info": {
   "codemirror_mode": {
    "name": "ipython",
    "version": 2
   },
   "file_extension": ".py",
   "mimetype": "text/x-python",
   "name": "python",
   "nbconvert_exporter": "python",
   "pygments_lexer": "ipython2",
   "version": "2.7.6"
  }
 },
 "nbformat": 4,
 "nbformat_minor": 0
}
